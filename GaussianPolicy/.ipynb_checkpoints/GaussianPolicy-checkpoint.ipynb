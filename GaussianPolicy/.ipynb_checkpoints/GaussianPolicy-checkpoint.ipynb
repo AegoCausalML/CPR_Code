{
 "cells": [
  {
   "cell_type": "markdown",
   "id": "63205386",
   "metadata": {},
   "source": [
    "Passos:\n",
    "- Politica:\n",
    "    - Classe\n",
    "    - Selecionar acao\n",
    "    - Calcular prob\n",
    "- Reinforce:\n",
    "    - Loop de treinamento\n",
    "    - Geracao do reward: C"
   ]
  },
  {
   "cell_type": "code",
   "execution_count": 73,
   "id": "e884b304",
   "metadata": {},
   "outputs": [],
   "source": [
    "import torch\n",
    "from torch import nn\n",
    "import torch.nn.functional as F\n",
    "import math\n",
    "\n",
    "def normal(x, mu, sigma_sq):\n",
    "    a = (-1*(x-mu).pow(2)/(2*sigma_sq)).exp()\n",
    "    b = 1/(2*sigma_sq*math.pi).sqrt()\n",
    "    return a*b\n",
    "\n",
    "class GaussianPolicy(nn.Module):\n",
    "    def __init__(self, n_users: int, d_R: int, hidden_dimension: int):\n",
    "        '''\n",
    "        Params:\n",
    "            - n_users: número de usuários\n",
    "            - d_R: dimensão da representação dos usuários\n",
    "            - hidden_dimension: número de neurôneos na camada oculta\n",
    "        '''\n",
    "        super().__init__()\n",
    "        \n",
    "        self.n_users = n_users\n",
    "        self.d_R = d_R\n",
    "        self.hidden_dimension = hidden_dimension\n",
    "\n",
    "        self.one_hot = F.one_hot\n",
    "        \n",
    "        self.linear1 = nn.Linear(n_users, hidden_dimension)\n",
    "        self.linear_mu = nn.Linear(hidden_dimension, d_R)\n",
    "        self.linear_sigma = nn.Linear(hidden_dimension, d_R)\n",
    "\n",
    "    def forward(self, xb):\n",
    "        xb = self.one_hot(xb, num_classes=self.n_users).to(torch.float32)\n",
    "        xb = F.relu(self.linear1(xb))\n",
    "        mu = self.linear_mu(xb)\n",
    "        sigma_sq = self.linear_sigma(xb)\n",
    "        return mu, sigma_sq\n",
    "    \n",
    "    def act(self, xb):\n",
    "        # Batch of users\n",
    "        mu, sigma_sq = self.forward(xb)\n",
    "        sigma_sq = F.softplus(sigma_sq)\n",
    "        eps = torch.randn(mu.size())\n",
    "        action = (mu + sigma_sq.sqrt()*eps).data\n",
    "        log_prob = normal(action, mu, sigma_sq).log()\n",
    "        return action, log_prob"
   ]
  },
  {
   "cell_type": "code",
   "execution_count": 129,
   "id": "c68d61e1",
   "metadata": {},
   "outputs": [],
   "source": [
    "# from torch.distributions.multivariate_normal import MultivariateNormal\n",
    "# distrib = MultivariateNormal(loc=mean, covariance_matrix=cov)\n",
    "# distrib.rsample()"
   ]
  },
  {
   "cell_type": "code",
   "execution_count": 116,
   "id": "01b95aef",
   "metadata": {},
   "outputs": [],
   "source": [
    "class SCM_Env:\n",
    "    def __init__(self):\n",
    "        pass\n",
    "    def compute_reward(self, action):\n",
    "        return -(action.sum(axis=1)**2)"
   ]
  },
  {
   "cell_type": "code",
   "execution_count": 117,
   "id": "8fe8fdec",
   "metadata": {},
   "outputs": [],
   "source": [
    "def reinforce_batch(policy, optimizer, u, env):\n",
    "    action, log_prob = policy.act(u)\n",
    "    reward = env.compute_reward(action)\n",
    "    loss = -(log_prob * reward.unsqueeze(1)).sum()\n",
    "    \n",
    "    optimizer.zero_grad()\n",
    "    loss.backward()\n",
    "    optimizer.step()\n",
    "    return loss.item()"
   ]
  },
  {
   "cell_type": "code",
   "execution_count": null,
   "id": "32d01887",
   "metadata": {},
   "outputs": [],
   "source": [
    "class CPR:\n",
    "    def __init__(self, pr_model, ps_model):\n",
    "        pass\n",
    "    \n",
    "    def gen_r_from_tau(self, tau, k):\n",
    "        \"\"\"\n",
    "        tau: action center\n",
    "        k: number of items\n",
    "        \"\"\"\n",
    "        "
   ]
  },
  {
   "cell_type": "code",
   "execution_count": null,
   "id": "a870322c",
   "metadata": {},
   "outputs": [],
   "source": []
  },
  {
   "cell_type": "code",
   "execution_count": null,
   "id": "7d6b8455",
   "metadata": {},
   "outputs": [],
   "source": [
    "pr_model = "
   ]
  },
  {
   "cell_type": "code",
   "execution_count": 130,
   "id": "0f133fa7",
   "metadata": {},
   "outputs": [
    {
     "data": {
      "text/plain": [
       "(tensor([[-0.7997,  0.5826, -0.2205,  0.4449],\n",
       "         [-0.3987, -0.0039, -0.0936,  0.0783]], grad_fn=<AddmmBackward0>),\n",
       " tensor([[-8.6666, -8.7223, -8.9115, -8.4670],\n",
       "         [-3.3681, -3.1108, -3.6908, -3.3109]], grad_fn=<AddmmBackward0>))"
      ]
     },
     "execution_count": 130,
     "metadata": {},
     "output_type": "execute_result"
    }
   ],
   "source": [
    "policy(torch.LongTensor([0,1]))"
   ]
  },
  {
   "cell_type": "markdown",
   "id": "2766474d",
   "metadata": {},
   "source": [
    "Amostrar batch de usuarios\n",
    "Selecionar acoes usando act\n",
    "alfa e beta => posterior por parametro\n",
    "Derivar C\n",
    "Recomepnsa\n",
    "Aplicar gradiente\n",
    "\n",
    "env: recebe tau e cospe a loss"
   ]
  },
  {
   "cell_type": "code",
   "execution_count": 118,
   "id": "c682261b",
   "metadata": {},
   "outputs": [],
   "source": [
    "policy = GaussianPolicy(5, 4, 16)\n",
    "learning_rate=1e-3\n",
    "optimizer = torch.optim.Adam(policy.parameters(), lr=learning_rate)"
   ]
  },
  {
   "cell_type": "code",
   "execution_count": 119,
   "id": "33c962ed",
   "metadata": {},
   "outputs": [],
   "source": [
    "env = SCM_Env()"
   ]
  }
 ],
 "metadata": {
  "kernelspec": {
   "display_name": "Python 3 (ipykernel)",
   "language": "python",
   "name": "python3"
  },
  "language_info": {
   "codemirror_mode": {
    "name": "ipython",
    "version": 3
   },
   "file_extension": ".py",
   "mimetype": "text/x-python",
   "name": "python",
   "nbconvert_exporter": "python",
   "pygments_lexer": "ipython3",
   "version": "3.8.12"
  }
 },
 "nbformat": 4,
 "nbformat_minor": 5
}
